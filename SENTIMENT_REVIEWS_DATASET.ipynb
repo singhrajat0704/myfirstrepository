{
 "cells": [
  {
   "cell_type": "markdown",
   "metadata": {},
   "source": [
    "# APP_REVIEW_DATASET\n"
   ]
  },
  {
   "cell_type": "markdown",
   "metadata": {},
   "source": [
    "### Importing Liabraries "
   ]
  },
  {
   "cell_type": "code",
   "execution_count": null,
   "metadata": {},
   "outputs": [],
   "source": [
    "import numpy as np  \n",
    "import pandas as pd\n",
    "from sklearn.preprocessing import LabelEncoder\n",
    "import re\n",
    "import nltk\n",
    "from nltk.corpus import stopwords\n",
    "from sklearn.feature_extraction.text import TfidfVectorizer\n",
    "from sklearn.feature_extraction.text import CountVectorizer\n",
    "from sklearn.model_selection import train_test_split\n",
    "from sklearn.metrics import confusion_matrix,classification_report,accuracy_score\n",
    "from sklearn.ensemble import RandomForestClassifier\n",
    "from sklearn.linear_model import LogisticRegression\n",
    "import matplotlib.pyplot as plt"
   ]
  },
  {
   "cell_type": "code",
   "execution_count": 1,
   "metadata": {},
   "outputs": [],
   "source": [
    "import numpy as np  \n",
    "import pandas as pd"
   ]
  },
  {
   "cell_type": "code",
   "execution_count": 2,
   "metadata": {},
   "outputs": [
    {
     "data": {
      "text/plain": [
       "(64295, 5)"
      ]
     },
     "execution_count": 2,
     "metadata": {},
     "output_type": "execute_result"
    }
   ],
   "source": [
    "df = pd.read_csv('googleplaystore_user_reviews.csv')\n",
    "df.head()\n",
    "df.shape"
   ]
  },
  {
   "cell_type": "code",
   "execution_count": 3,
   "metadata": {},
   "outputs": [
    {
     "data": {
      "text/html": [
       "<div>\n",
       "<style scoped>\n",
       "    .dataframe tbody tr th:only-of-type {\n",
       "        vertical-align: middle;\n",
       "    }\n",
       "\n",
       "    .dataframe tbody tr th {\n",
       "        vertical-align: top;\n",
       "    }\n",
       "\n",
       "    .dataframe thead th {\n",
       "        text-align: right;\n",
       "    }\n",
       "</style>\n",
       "<table border=\"1\" class=\"dataframe\">\n",
       "  <thead>\n",
       "    <tr style=\"text-align: right;\">\n",
       "      <th></th>\n",
       "      <th>Translated_Review</th>\n",
       "      <th>Sentiment</th>\n",
       "    </tr>\n",
       "  </thead>\n",
       "  <tbody>\n",
       "    <tr>\n",
       "      <td>0</td>\n",
       "      <td>I like eat delicious food. That's I'm cooking ...</td>\n",
       "      <td>Positive</td>\n",
       "    </tr>\n",
       "    <tr>\n",
       "      <td>1</td>\n",
       "      <td>This help eating healthy exercise regular basis</td>\n",
       "      <td>Positive</td>\n",
       "    </tr>\n",
       "    <tr>\n",
       "      <td>2</td>\n",
       "      <td>NaN</td>\n",
       "      <td>NaN</td>\n",
       "    </tr>\n",
       "    <tr>\n",
       "      <td>3</td>\n",
       "      <td>Works great especially going grocery store</td>\n",
       "      <td>Positive</td>\n",
       "    </tr>\n",
       "    <tr>\n",
       "      <td>4</td>\n",
       "      <td>Best idea us</td>\n",
       "      <td>Positive</td>\n",
       "    </tr>\n",
       "  </tbody>\n",
       "</table>\n",
       "</div>"
      ],
      "text/plain": [
       "                                   Translated_Review Sentiment\n",
       "0  I like eat delicious food. That's I'm cooking ...  Positive\n",
       "1    This help eating healthy exercise regular basis  Positive\n",
       "2                                                NaN       NaN\n",
       "3         Works great especially going grocery store  Positive\n",
       "4                                       Best idea us  Positive"
      ]
     },
     "execution_count": 3,
     "metadata": {},
     "output_type": "execute_result"
    }
   ],
   "source": [
    "data=df.drop(['App','Sentiment_Polarity','Sentiment_Subjectivity'],axis = 1)\n",
    "data.head()"
   ]
  },
  {
   "cell_type": "code",
   "execution_count": 4,
   "metadata": {},
   "outputs": [
    {
     "name": "stdout",
     "output_type": "stream",
     "text": [
      "(5000, 2)\n"
     ]
    }
   ],
   "source": [
    "data1 = data.iloc[:5000,:]  # it reads 0 to 5000 rows \n",
    "print(data1.shape)"
   ]
  },
  {
   "cell_type": "markdown",
   "metadata": {},
   "source": [
    "## Preprocessing of the data"
   ]
  },
  {
   "cell_type": "code",
   "execution_count": 5,
   "metadata": {},
   "outputs": [
    {
     "data": {
      "text/plain": [
       "Translated_Review    1901\n",
       "Sentiment            1900\n",
       "dtype: int64"
      ]
     },
     "execution_count": 5,
     "metadata": {},
     "output_type": "execute_result"
    }
   ],
   "source": [
    "data1.isnull().sum()"
   ]
  },
  {
   "cell_type": "code",
   "execution_count": 6,
   "metadata": {},
   "outputs": [
    {
     "name": "stderr",
     "output_type": "stream",
     "text": [
      "C:\\ProgramData\\Anaconda3\\lib\\site-packages\\ipykernel_launcher.py:1: SettingWithCopyWarning: \n",
      "A value is trying to be set on a copy of a slice from a DataFrame\n",
      "\n",
      "See the caveats in the documentation: http://pandas.pydata.org/pandas-docs/stable/user_guide/indexing.html#returning-a-view-versus-a-copy\n",
      "  \"\"\"Entry point for launching an IPython kernel.\n"
     ]
    }
   ],
   "source": [
    "data1.dropna(axis = 0,inplace = True)"
   ]
  },
  {
   "cell_type": "code",
   "execution_count": 7,
   "metadata": {},
   "outputs": [
    {
     "data": {
      "text/plain": [
       "Translated_Review    0\n",
       "Sentiment            0\n",
       "dtype: int64"
      ]
     },
     "execution_count": 7,
     "metadata": {},
     "output_type": "execute_result"
    }
   ],
   "source": [
    "data1.isnull().sum()"
   ]
  },
  {
   "cell_type": "code",
   "execution_count": 8,
   "metadata": {},
   "outputs": [
    {
     "name": "stderr",
     "output_type": "stream",
     "text": [
      "C:\\ProgramData\\Anaconda3\\lib\\site-packages\\ipykernel_launcher.py:3: SettingWithCopyWarning: \n",
      "A value is trying to be set on a copy of a slice from a DataFrame.\n",
      "Try using .loc[row_indexer,col_indexer] = value instead\n",
      "\n",
      "See the caveats in the documentation: http://pandas.pydata.org/pandas-docs/stable/user_guide/indexing.html#returning-a-view-versus-a-copy\n",
      "  This is separate from the ipykernel package so we can avoid doing imports until\n"
     ]
    },
    {
     "data": {
      "text/html": [
       "<div>\n",
       "<style scoped>\n",
       "    .dataframe tbody tr th:only-of-type {\n",
       "        vertical-align: middle;\n",
       "    }\n",
       "\n",
       "    .dataframe tbody tr th {\n",
       "        vertical-align: top;\n",
       "    }\n",
       "\n",
       "    .dataframe thead th {\n",
       "        text-align: right;\n",
       "    }\n",
       "</style>\n",
       "<table border=\"1\" class=\"dataframe\">\n",
       "  <thead>\n",
       "    <tr style=\"text-align: right;\">\n",
       "      <th></th>\n",
       "      <th>Translated_Review</th>\n",
       "      <th>Sentiment</th>\n",
       "    </tr>\n",
       "  </thead>\n",
       "  <tbody>\n",
       "    <tr>\n",
       "      <td>0</td>\n",
       "      <td>I like eat delicious food. That's I'm cooking ...</td>\n",
       "      <td>2</td>\n",
       "    </tr>\n",
       "    <tr>\n",
       "      <td>1</td>\n",
       "      <td>This help eating healthy exercise regular basis</td>\n",
       "      <td>2</td>\n",
       "    </tr>\n",
       "    <tr>\n",
       "      <td>3</td>\n",
       "      <td>Works great especially going grocery store</td>\n",
       "      <td>2</td>\n",
       "    </tr>\n",
       "    <tr>\n",
       "      <td>4</td>\n",
       "      <td>Best idea us</td>\n",
       "      <td>2</td>\n",
       "    </tr>\n",
       "    <tr>\n",
       "      <td>5</td>\n",
       "      <td>Best way</td>\n",
       "      <td>2</td>\n",
       "    </tr>\n",
       "  </tbody>\n",
       "</table>\n",
       "</div>"
      ],
      "text/plain": [
       "                                   Translated_Review  Sentiment\n",
       "0  I like eat delicious food. That's I'm cooking ...          2\n",
       "1    This help eating healthy exercise regular basis          2\n",
       "3         Works great especially going grocery store          2\n",
       "4                                       Best idea us          2\n",
       "5                                           Best way          2"
      ]
     },
     "execution_count": 8,
     "metadata": {},
     "output_type": "execute_result"
    }
   ],
   "source": [
    "from sklearn.preprocessing import LabelEncoder\n",
    "lb = LabelEncoder()\n",
    "data1['Sentiment']=lb.fit_transform(data1['Sentiment'])\n",
    "data1.head()"
   ]
  },
  {
   "cell_type": "code",
   "execution_count": 9,
   "metadata": {},
   "outputs": [
    {
     "data": {
      "text/plain": [
       "'i like eat delicious food  that s i m cooking food myself  case     best foods  helps lot  also  best before  shelf life  '"
      ]
     },
     "execution_count": 9,
     "metadata": {},
     "output_type": "execute_result"
    }
   ],
   "source": [
    "#Data cleaning\n",
    "import re\n",
    "first_text=data1.Translated_Review[0]\n",
    "text=re.sub(\"[^a-zA-Z]\",\" \",first_text) #changing characters with space\n",
    "text=text.lower()\n",
    "text"
   ]
  },
  {
   "cell_type": "code",
   "execution_count": 16,
   "metadata": {},
   "outputs": [
    {
     "data": {
      "text/plain": [
       "['i',\n",
       " 'like',\n",
       " 'eat',\n",
       " 'delicious',\n",
       " 'food',\n",
       " 'that',\n",
       " 's',\n",
       " 'i',\n",
       " 'm',\n",
       " 'cooking',\n",
       " 'food',\n",
       " 'myself',\n",
       " 'case',\n",
       " 'best',\n",
       " 'foods',\n",
       " 'helps',\n",
       " 'lot',\n",
       " 'also',\n",
       " 'best',\n",
       " 'before',\n",
       " 'shelf',\n",
       " 'life']"
      ]
     },
     "execution_count": 16,
     "metadata": {},
     "output_type": "execute_result"
    }
   ],
   "source": [
    "#stopwords (irrelavent words)\n",
    "import nltk\n",
    "from nltk.corpus import stopwords\n",
    "text=nltk.word_tokenize(text) #separate all words\n",
    "text"
   ]
  },
  {
   "cell_type": "code",
   "execution_count": 20,
   "metadata": {},
   "outputs": [
    {
     "data": {
      "text/plain": [
       "'i like eat delicious food that s i m cooking food myself case best food help lot also best before shelf life'"
      ]
     },
     "execution_count": 20,
     "metadata": {},
     "output_type": "execute_result"
    }
   ],
   "source": [
    "import nltk as nlp\n",
    "lemma=nlp.WordNetLemmatizer()\n",
    "text=[lemma.lemmatize(i) for i in text]\n",
    "text=\" \".join(text)\n",
    "text\n"
   ]
  },
  {
   "cell_type": "code",
   "execution_count": 21,
   "metadata": {
    "scrolled": true
   },
   "outputs": [
    {
     "data": {
      "text/plain": [
       "['i like eat delicious food that s i m cooking food myself case best food help lot also best before shelf life',\n",
       " 'this help eating healthy exercise regular basis',\n",
       " 'work great especially going grocery store',\n",
       " 'best idea u',\n",
       " 'best way',\n",
       " 'amazing',\n",
       " 'looking forward app',\n",
       " 'it helpful site it help food get',\n",
       " 'good you',\n",
       " 'useful information the amount spelling error question validity information shared once fixed star given']"
      ]
     },
     "execution_count": 21,
     "metadata": {},
     "output_type": "execute_result"
    }
   ],
   "source": [
    "# apply to all the dataset\n",
    "import nltk as nlp\n",
    "text_list=[]\n",
    "for i in data1.Translated_Review:\n",
    "    text=re.sub(\"[^a-zA-Z]\",\" \",i)\n",
    "    text=text.lower()\n",
    "    text=nltk.word_tokenize(text)\n",
    "    lemma=nlp.WordNetLemmatizer()\n",
    "    text=[lemma.lemmatize(word) for word in text]\n",
    "    text=\" \".join(text)\n",
    "    text_list.append(text)\n",
    "text_list[:10]\n"
   ]
  },
  {
   "cell_type": "markdown",
   "metadata": {},
   "source": [
    "## By using  CountVectorizor and TfidfVectorizor \n",
    "\n",
    "#### By CountVectorizor accuracy is greater then by TfidfVectorizor so,i am using CountVectorizor"
   ]
  },
  {
   "cell_type": "code",
   "execution_count": 22,
   "metadata": {},
   "outputs": [],
   "source": [
    "#bag of words\n",
    "# COUNT VECTORIZER\n",
    "from sklearn.feature_extraction.text import CountVectorizer\n",
    "max_features=1000\n",
    "cou_vec=CountVectorizer(max_features=max_features,stop_words=\"english\")\n",
    "sparse_matrix= cou_vec.fit_transform(text_list).toarray()\n"
   ]
  },
  {
   "cell_type": "code",
   "execution_count": null,
   "metadata": {},
   "outputs": [],
   "source": [
    "# from sklearn.feature_extraction.text import TfidfVectorizer\n",
    "# max_features=1000\n",
    "# tfidf_vectorizer = TfidfVectorizer(norm=None, ngram_range=(3,3))\n",
    "# sparse_matrix= tfidf_vectorizer.fit_transform(text_list).toarray()"
   ]
  },
  {
   "cell_type": "markdown",
   "metadata": {},
   "source": [
    "# Spliting the data into train and test"
   ]
  },
  {
   "cell_type": "code",
   "execution_count": 23,
   "metadata": {},
   "outputs": [],
   "source": [
    "Y = data1.iloc[:,1].values\n",
    "X = sparse_matrix\n",
    "from sklearn.model_selection import train_test_split\n",
    "X_train,X_test,Y_train,Y_test = train_test_split(X,Y,test_size=0.20)"
   ]
  },
  {
   "cell_type": "code",
   "execution_count": 24,
   "metadata": {},
   "outputs": [
    {
     "data": {
      "text/plain": [
       "(620, 1000)"
      ]
     },
     "execution_count": 24,
     "metadata": {},
     "output_type": "execute_result"
    }
   ],
   "source": [
    "X_test.shape"
   ]
  },
  {
   "cell_type": "code",
   "execution_count": 25,
   "metadata": {},
   "outputs": [
    {
     "data": {
      "text/plain": [
       "(2479, 1000)"
      ]
     },
     "execution_count": 25,
     "metadata": {},
     "output_type": "execute_result"
    }
   ],
   "source": [
    "X_train.shape"
   ]
  },
  {
   "cell_type": "code",
   "execution_count": 26,
   "metadata": {},
   "outputs": [
    {
     "data": {
      "text/plain": [
       "(2479,)"
      ]
     },
     "execution_count": 26,
     "metadata": {},
     "output_type": "execute_result"
    }
   ],
   "source": [
    "Y_train.shape"
   ]
  },
  {
   "cell_type": "code",
   "execution_count": 27,
   "metadata": {},
   "outputs": [
    {
     "data": {
      "text/plain": [
       "(2479, 1000)"
      ]
     },
     "execution_count": 27,
     "metadata": {},
     "output_type": "execute_result"
    }
   ],
   "source": [
    "X_train.shape"
   ]
  },
  {
   "cell_type": "code",
   "execution_count": 28,
   "metadata": {},
   "outputs": [
    {
     "data": {
      "text/plain": [
       "(620,)"
      ]
     },
     "execution_count": 28,
     "metadata": {},
     "output_type": "execute_result"
    }
   ],
   "source": [
    "Y_test.shape"
   ]
  },
  {
   "cell_type": "markdown",
   "metadata": {},
   "source": [
    "## Model Selection"
   ]
  },
  {
   "cell_type": "code",
   "execution_count": 29,
   "metadata": {},
   "outputs": [],
   "source": [
    "from sklearn.metrics import confusion_matrix,classification_report,accuracy_score"
   ]
  },
  {
   "cell_type": "code",
   "execution_count": 30,
   "metadata": {},
   "outputs": [
    {
     "name": "stdout",
     "output_type": "stream",
     "text": [
      "RF Accuracy:- 0.9\n"
     ]
    }
   ],
   "source": [
    "from sklearn.ensemble import RandomForestClassifier\n",
    "clf = RandomForestClassifier(n_estimators = 200,random_state = 0 )\n",
    "clf.fit(X_train,Y_train)\n",
    "y_pred_RF  = clf.predict(X_test)\n",
    "RF = accuracy_score(y_pred_RF,Y_test)\n",
    "print(\"RF Accuracy:-\",accuracy_score(y_pred_RF,Y_test))"
   ]
  },
  {
   "cell_type": "code",
   "execution_count": 31,
   "metadata": {},
   "outputs": [
    {
     "name": "stdout",
     "output_type": "stream",
     "text": [
      "[[ 94   1   8]\n",
      " [  6  77  16]\n",
      " [ 18  13 387]]\n",
      "              precision    recall  f1-score   support\n",
      "\n",
      "           0       0.80      0.91      0.85       103\n",
      "           1       0.85      0.78      0.81        99\n",
      "           2       0.94      0.93      0.93       418\n",
      "\n",
      "    accuracy                           0.90       620\n",
      "   macro avg       0.86      0.87      0.86       620\n",
      "weighted avg       0.90      0.90      0.90       620\n",
      "\n"
     ]
    }
   ],
   "source": [
    "print(confusion_matrix(y_pred_RF,Y_test))\n",
    "print(classification_report(y_pred_RF,Y_test))"
   ]
  },
  {
   "cell_type": "code",
   "execution_count": 32,
   "metadata": {},
   "outputs": [
    {
     "name": "stdout",
     "output_type": "stream",
     "text": [
      "\n",
      "DecisionTree accuracy:- 0.8612903225806452\n"
     ]
    }
   ],
   "source": [
    "from sklearn.tree import DecisionTreeClassifier\n",
    "DTC = DecisionTreeClassifier(random_state = 0,criterion = 'gini')\n",
    "DTC.fit(X_train,Y_train)\n",
    "y_pred_DT  = DTC.predict(X_test)\n",
    "DTC = accuracy_score(y_pred_DT,Y_test)\n",
    "print(\"\\nDecisionTree accuracy:-\",accuracy_score(Y_test,y_pred_DT))\n"
   ]
  },
  {
   "cell_type": "code",
   "execution_count": 43,
   "metadata": {},
   "outputs": [
    {
     "name": "stdout",
     "output_type": "stream",
     "text": [
      "[[ 85   6  19]\n",
      " [  6  71  14]\n",
      " [ 27  14 378]]\n",
      "              precision    recall  f1-score   support\n",
      "\n",
      "           0       0.72      0.77      0.75       110\n",
      "           1       0.78      0.78      0.78        91\n",
      "           2       0.92      0.90      0.91       419\n",
      "\n",
      "    accuracy                           0.86       620\n",
      "   macro avg       0.81      0.82      0.81       620\n",
      "weighted avg       0.86      0.86      0.86       620\n",
      "\n"
     ]
    }
   ],
   "source": [
    "print(confusion_matrix(y_pred_DT,Y_test))\n",
    "print(classification_report(y_pred_DT,Y_test))"
   ]
  },
  {
   "cell_type": "code",
   "execution_count": 34,
   "metadata": {
    "scrolled": true
   },
   "outputs": [
    {
     "name": "stderr",
     "output_type": "stream",
     "text": [
      "C:\\ProgramData\\Anaconda3\\lib\\site-packages\\sklearn\\linear_model\\logistic.py:432: FutureWarning: Default solver will be changed to 'lbfgs' in 0.22. Specify a solver to silence this warning.\n",
      "  FutureWarning)\n",
      "C:\\ProgramData\\Anaconda3\\lib\\site-packages\\sklearn\\linear_model\\logistic.py:469: FutureWarning: Default multi_class will be changed to 'auto' in 0.22. Specify the multi_class option to silence this warning.\n",
      "  \"this warning.\", FutureWarning)\n"
     ]
    },
    {
     "name": "stdout",
     "output_type": "stream",
     "text": [
      "\n",
      "LogisticRegression accuracy:- 0.8741935483870967\n"
     ]
    }
   ],
   "source": [
    "from sklearn.linear_model import LogisticRegression\n",
    "lrg  = LogisticRegression()\n",
    "lrg.fit(X_train,Y_train)\n",
    "y_pred_LR  = lrg.predict(X_test)\n",
    "LR = accuracy_score(y_pred_LR,Y_test)\n",
    "print(\"\\nLogisticRegression accuracy:-\",accuracy_score(Y_test,y_pred_LR))\n"
   ]
  },
  {
   "cell_type": "code",
   "execution_count": 35,
   "metadata": {},
   "outputs": [
    {
     "name": "stdout",
     "output_type": "stream",
     "text": [
      "[[ 93   5  14]\n",
      " [  8  61   9]\n",
      " [ 17  25 388]]\n",
      "              precision    recall  f1-score   support\n",
      "\n",
      "           0       0.79      0.83      0.81       112\n",
      "           1       0.67      0.78      0.72        78\n",
      "           2       0.94      0.90      0.92       430\n",
      "\n",
      "    accuracy                           0.87       620\n",
      "   macro avg       0.80      0.84      0.82       620\n",
      "weighted avg       0.88      0.87      0.88       620\n",
      "\n"
     ]
    }
   ],
   "source": [
    "print(confusion_matrix(y_pred_LR,Y_test))\n",
    "print(classification_report(y_pred_LR,Y_test))"
   ]
  },
  {
   "cell_type": "code",
   "execution_count": 36,
   "metadata": {},
   "outputs": [
    {
     "name": "stdout",
     "output_type": "stream",
     "text": [
      "\n",
      "SVM classifier:- 0.8790322580645161\n"
     ]
    }
   ],
   "source": [
    "from sklearn import svm\n",
    "clf = svm.SVC(kernel='linear')\n",
    "clf.fit(X_train,Y_train)\n",
    "y_pred_SVM = clf.predict(X_test)\n",
    "svm = accuracy_score(y_pred_SVM,Y_test)\n",
    "print(\"\\nSVM classifier:-\",accuracy_score(Y_test,y_pred_SVM))\n",
    "\n"
   ]
  },
  {
   "cell_type": "code",
   "execution_count": 37,
   "metadata": {},
   "outputs": [
    {
     "name": "stdout",
     "output_type": "stream",
     "text": [
      "[[ 98   6  17]\n",
      " [  6  69  16]\n",
      " [ 14  16 378]]\n",
      "              precision    recall  f1-score   support\n",
      "\n",
      "           0       0.83      0.81      0.82       121\n",
      "           1       0.76      0.76      0.76        91\n",
      "           2       0.92      0.93      0.92       408\n",
      "\n",
      "    accuracy                           0.88       620\n",
      "   macro avg       0.84      0.83      0.83       620\n",
      "weighted avg       0.88      0.88      0.88       620\n",
      "\n"
     ]
    }
   ],
   "source": [
    "print(confusion_matrix(y_pred_SVM,Y_test))\n",
    "print(classification_report(y_pred_SVM,Y_test))"
   ]
  },
  {
   "cell_type": "code",
   "execution_count": 38,
   "metadata": {},
   "outputs": [
    {
     "name": "stdout",
     "output_type": "stream",
     "text": [
      "\n",
      "NaiveBayes accuracy :- 0.5758064516129032\n"
     ]
    }
   ],
   "source": [
    "from sklearn.naive_bayes import GaussianNB\n",
    "classifier = GaussianNB()\n",
    "classifier.fit(X_train, Y_train)\n",
    "y_pred_NB = classifier.predict(X_test)\n",
    "NB = accuracy_score(y_pred_NB,Y_test)\n",
    "print('\\nNaiveBayes accuracy :-',accuracy_score(Y_test,y_pred_NB))\n",
    "\n"
   ]
  },
  {
   "cell_type": "code",
   "execution_count": 39,
   "metadata": {},
   "outputs": [
    {
     "name": "stdout",
     "output_type": "stream",
     "text": [
      "[[ 85  18 154]\n",
      " [  8  57  42]\n",
      " [ 25  16 215]]\n",
      "              precision    recall  f1-score   support\n",
      "\n",
      "           0       0.72      0.33      0.45       257\n",
      "           1       0.63      0.53      0.58       107\n",
      "           2       0.52      0.84      0.64       256\n",
      "\n",
      "    accuracy                           0.58       620\n",
      "   macro avg       0.62      0.57      0.56       620\n",
      "weighted avg       0.62      0.58      0.55       620\n",
      "\n"
     ]
    }
   ],
   "source": [
    "print(confusion_matrix(y_pred_NB,Y_test))\n",
    "print(classification_report(y_pred_NB,Y_test))"
   ]
  },
  {
   "cell_type": "code",
   "execution_count": 40,
   "metadata": {},
   "outputs": [
    {
     "name": "stdout",
     "output_type": "stream",
     "text": [
      "\n",
      "MultinomialNB:- 0.7548387096774194\n"
     ]
    }
   ],
   "source": [
    "from sklearn.naive_bayes import MultinomialNB\n",
    "MNB = MultinomialNB()\n",
    "MNB.fit(X_train,Y_train)\n",
    "y_pred_MNB = MNB.predict(X_test)\n",
    "mnb = accuracy_score(y_pred_MNB,Y_test)\n",
    "print(\"\\nMultinomialNB:-\",accuracy_score(y_pred_MNB,Y_test))"
   ]
  },
  {
   "cell_type": "code",
   "execution_count": 41,
   "metadata": {},
   "outputs": [
    {
     "name": "stdout",
     "output_type": "stream",
     "text": [
      "[[ 78   4  30]\n",
      " [ 11  31  22]\n",
      " [ 29  56 359]]\n",
      "              precision    recall  f1-score   support\n",
      "\n",
      "           0       0.66      0.70      0.68       112\n",
      "           1       0.34      0.48      0.40        64\n",
      "           2       0.87      0.81      0.84       444\n",
      "\n",
      "    accuracy                           0.75       620\n",
      "   macro avg       0.63      0.66      0.64       620\n",
      "weighted avg       0.78      0.75      0.77       620\n",
      "\n"
     ]
    }
   ],
   "source": [
    "print(confusion_matrix(y_pred_MNB,Y_test))\n",
    "print(classification_report(y_pred_MNB,Y_test))"
   ]
  },
  {
   "cell_type": "markdown",
   "metadata": {},
   "source": [
    "## Vizualisation of all the algorithms"
   ]
  },
  {
   "cell_type": "code",
   "execution_count": 45,
   "metadata": {},
   "outputs": [
    {
     "data": {
      "image/png": "[encoded data removed]",
      "text/plain": [
       "<Figure size 432x288 with 1 Axes>"
      ]
     },
     "metadata": {
      "needs_background": "light"
     },
     "output_type": "display_data"
    }
   ],
   "source": [
    "import matplotlib.pyplot as plt\n",
    "%matplotlib inline\n",
    "plot = [RF,DTC,LR,svm,NB,mnb]\n",
    "name = ['RF','DTC','LR','SVC','NB','MNB']\n",
    "\n",
    "\n",
    "tick_label = ['RF','DTC','LR','SVC','NB','MNB'] \n",
    "  \n",
    "plt.bar(name,plot, tick_label = tick_label, \n",
    "        width = 0.5, color = ['red', 'green','blue','purple','yellow','black']) \n",
    "   \n",
    "plt.xlabel('algorithms') \n",
    "plt.ylabel('accuracies') \n",
    "plt.title('performace of Classification algorithms') \n",
    "plt.show() \n"
   ]
  },
  {
   "cell_type": "markdown",
   "metadata": {},
   "source": [
    "# STACK_OVERFLOW_DATASET"
   ]
  },
  {
   "cell_type": "code",
   "execution_count": 46,
   "metadata": {},
   "outputs": [],
   "source": [
    "import pandas as pd\n",
    "import numpy as np"
   ]
  },
  {
   "cell_type": "code",
   "execution_count": 47,
   "metadata": {},
   "outputs": [
    {
     "data": {
      "text/html": [
       "<div>\n",
       "<style scoped>\n",
       "    .dataframe tbody tr th:only-of-type {\n",
       "        vertical-align: middle;\n",
       "    }\n",
       "\n",
       "    .dataframe tbody tr th {\n",
       "        vertical-align: top;\n",
       "    }\n",
       "\n",
       "    .dataframe thead th {\n",
       "        text-align: right;\n",
       "    }\n",
       "</style>\n",
       "<table border=\"1\" class=\"dataframe\">\n",
       "  <thead>\n",
       "    <tr style=\"text-align: right;\">\n",
       "      <th></th>\n",
       "      <th>post</th>\n",
       "      <th>tags</th>\n",
       "    </tr>\n",
       "  </thead>\n",
       "  <tbody>\n",
       "    <tr>\n",
       "      <td>0</td>\n",
       "      <td>what is causing this behavior  in our c# datet...</td>\n",
       "      <td>c#</td>\n",
       "    </tr>\n",
       "    <tr>\n",
       "      <td>1</td>\n",
       "      <td>have dynamic html load as if it was in an ifra...</td>\n",
       "      <td>asp.net</td>\n",
       "    </tr>\n",
       "    <tr>\n",
       "      <td>2</td>\n",
       "      <td>how to convert a float value in to min:sec  i ...</td>\n",
       "      <td>objective-c</td>\n",
       "    </tr>\n",
       "    <tr>\n",
       "      <td>3</td>\n",
       "      <td>.net framework 4 redistributable  just wonderi...</td>\n",
       "      <td>.net</td>\n",
       "    </tr>\n",
       "    <tr>\n",
       "      <td>4</td>\n",
       "      <td>trying to calculate and print the mean and its...</td>\n",
       "      <td>python</td>\n",
       "    </tr>\n",
       "  </tbody>\n",
       "</table>\n",
       "</div>"
      ],
      "text/plain": [
       "                                                post         tags\n",
       "0  what is causing this behavior  in our c# datet...           c#\n",
       "1  have dynamic html load as if it was in an ifra...      asp.net\n",
       "2  how to convert a float value in to min:sec  i ...  objective-c\n",
       "3  .net framework 4 redistributable  just wonderi...         .net\n",
       "4  trying to calculate and print the mean and its...       python"
      ]
     },
     "execution_count": 47,
     "metadata": {},
     "output_type": "execute_result"
    }
   ],
   "source": [
    "data = pd.read_csv('stack-overflow-data.csv')\n",
    "data.head()"
   ]
  },
  {
   "cell_type": "code",
   "execution_count": 48,
   "metadata": {},
   "outputs": [
    {
     "name": "stdout",
     "output_type": "stream",
     "text": [
      "<class 'pandas.core.frame.DataFrame'>\n",
      "RangeIndex: 40000 entries, 0 to 39999\n",
      "Data columns (total 2 columns):\n",
      "post    40000 non-null object\n",
      "tags    40000 non-null object\n",
      "dtypes: object(2)\n",
      "memory usage: 625.1+ KB\n"
     ]
    }
   ],
   "source": [
    "data.info()"
   ]
  },
  {
   "cell_type": "code",
   "execution_count": 49,
   "metadata": {},
   "outputs": [
    {
     "data": {
      "text/plain": [
       "post    0\n",
       "tags    0\n",
       "dtype: int64"
      ]
     },
     "execution_count": 49,
     "metadata": {},
     "output_type": "execute_result"
    }
   ],
   "source": [
    "data.isnull().sum()"
   ]
  },
  {
   "cell_type": "code",
   "execution_count": 50,
   "metadata": {},
   "outputs": [
    {
     "data": {
      "text/html": [
       "<div>\n",
       "<style scoped>\n",
       "    .dataframe tbody tr th:only-of-type {\n",
       "        vertical-align: middle;\n",
       "    }\n",
       "\n",
       "    .dataframe tbody tr th {\n",
       "        vertical-align: top;\n",
       "    }\n",
       "\n",
       "    .dataframe thead th {\n",
       "        text-align: right;\n",
       "    }\n",
       "</style>\n",
       "<table border=\"1\" class=\"dataframe\">\n",
       "  <thead>\n",
       "    <tr style=\"text-align: right;\">\n",
       "      <th></th>\n",
       "      <th>tags</th>\n",
       "      <th>tag_count</th>\n",
       "    </tr>\n",
       "  </thead>\n",
       "  <tbody>\n",
       "    <tr>\n",
       "      <td>0</td>\n",
       "      <td>.net</td>\n",
       "      <td>2000</td>\n",
       "    </tr>\n",
       "    <tr>\n",
       "      <td>1</td>\n",
       "      <td>android</td>\n",
       "      <td>2000</td>\n",
       "    </tr>\n",
       "    <tr>\n",
       "      <td>2</td>\n",
       "      <td>angularjs</td>\n",
       "      <td>2000</td>\n",
       "    </tr>\n",
       "    <tr>\n",
       "      <td>3</td>\n",
       "      <td>asp.net</td>\n",
       "      <td>2000</td>\n",
       "    </tr>\n",
       "    <tr>\n",
       "      <td>4</td>\n",
       "      <td>c</td>\n",
       "      <td>2000</td>\n",
       "    </tr>\n",
       "    <tr>\n",
       "      <td>5</td>\n",
       "      <td>c#</td>\n",
       "      <td>2000</td>\n",
       "    </tr>\n",
       "    <tr>\n",
       "      <td>6</td>\n",
       "      <td>c++</td>\n",
       "      <td>2000</td>\n",
       "    </tr>\n",
       "    <tr>\n",
       "      <td>7</td>\n",
       "      <td>css</td>\n",
       "      <td>2000</td>\n",
       "    </tr>\n",
       "    <tr>\n",
       "      <td>8</td>\n",
       "      <td>html</td>\n",
       "      <td>2000</td>\n",
       "    </tr>\n",
       "    <tr>\n",
       "      <td>9</td>\n",
       "      <td>ios</td>\n",
       "      <td>2000</td>\n",
       "    </tr>\n",
       "    <tr>\n",
       "      <td>10</td>\n",
       "      <td>iphone</td>\n",
       "      <td>2000</td>\n",
       "    </tr>\n",
       "    <tr>\n",
       "      <td>11</td>\n",
       "      <td>java</td>\n",
       "      <td>2000</td>\n",
       "    </tr>\n",
       "    <tr>\n",
       "      <td>12</td>\n",
       "      <td>javascript</td>\n",
       "      <td>2000</td>\n",
       "    </tr>\n",
       "    <tr>\n",
       "      <td>13</td>\n",
       "      <td>jquery</td>\n",
       "      <td>2000</td>\n",
       "    </tr>\n",
       "    <tr>\n",
       "      <td>14</td>\n",
       "      <td>mysql</td>\n",
       "      <td>2000</td>\n",
       "    </tr>\n",
       "    <tr>\n",
       "      <td>15</td>\n",
       "      <td>objective-c</td>\n",
       "      <td>2000</td>\n",
       "    </tr>\n",
       "    <tr>\n",
       "      <td>16</td>\n",
       "      <td>php</td>\n",
       "      <td>2000</td>\n",
       "    </tr>\n",
       "    <tr>\n",
       "      <td>17</td>\n",
       "      <td>python</td>\n",
       "      <td>2000</td>\n",
       "    </tr>\n",
       "    <tr>\n",
       "      <td>18</td>\n",
       "      <td>ruby-on-rails</td>\n",
       "      <td>2000</td>\n",
       "    </tr>\n",
       "    <tr>\n",
       "      <td>19</td>\n",
       "      <td>sql</td>\n",
       "      <td>2000</td>\n",
       "    </tr>\n",
       "  </tbody>\n",
       "</table>\n",
       "</div>"
      ],
      "text/plain": [
       "             tags  tag_count\n",
       "0            .net       2000\n",
       "1         android       2000\n",
       "2       angularjs       2000\n",
       "3         asp.net       2000\n",
       "4               c       2000\n",
       "5              c#       2000\n",
       "6             c++       2000\n",
       "7             css       2000\n",
       "8            html       2000\n",
       "9             ios       2000\n",
       "10         iphone       2000\n",
       "11           java       2000\n",
       "12     javascript       2000\n",
       "13         jquery       2000\n",
       "14          mysql       2000\n",
       "15    objective-c       2000\n",
       "16            php       2000\n",
       "17         python       2000\n",
       "18  ruby-on-rails       2000\n",
       "19            sql       2000"
      ]
     },
     "execution_count": 50,
     "metadata": {},
     "output_type": "execute_result"
    }
   ],
   "source": [
    "count_tag = data.groupby('tags').aggregate({'post':np.count_nonzero}).reset_index().rename(columns = {'post':'tag_count'})\n",
    "count_tag"
   ]
  },
  {
   "cell_type": "code",
   "execution_count": 51,
   "metadata": {},
   "outputs": [],
   "source": [
    "from sklearn.preprocessing import LabelEncoder\n",
    "lbe = LabelEncoder()\n",
    "data['tags'] = lbe.fit_transform(data['tags'])\n",
    "#data.head()"
   ]
  },
  {
   "cell_type": "code",
   "execution_count": 192,
   "metadata": {},
   "outputs": [],
   "source": [
    "import re\n",
    "f1_text = data.post[0]\n",
    "text = re.sub(\"[^a-zA-Z]\",\" \",f1_text)\n",
    "text=text.lower()"
   ]
  },
  {
   "cell_type": "code",
   "execution_count": 193,
   "metadata": {},
   "outputs": [],
   "source": [
    "# removel of stopwords\n",
    "import nltk\n",
    "from nltk.corpus import stopwords\n",
    "text = nltk.word_tokenize(text)"
   ]
  },
  {
   "cell_type": "code",
   "execution_count": 194,
   "metadata": {},
   "outputs": [],
   "source": [
    "import nltk as nlp\n",
    "lem = nlp.WordNetLemmatizer()\n",
    "text= [lem.lemmatize(i) for i in text]\n",
    "#text\n",
    "text = \"\".join(text)\n",
    "#text"
   ]
  },
  {
   "cell_type": "code",
   "execution_count": 195,
   "metadata": {},
   "outputs": [],
   "source": [
    "import nltk as nlp\n",
    "text_list = []\n",
    "for i in data.post:\n",
    "    text = re.sub(\"[^a-zA-Z]\",\" \",i)\n",
    "    text =text.lower()\n",
    "    text=nltk.word_tokenize(text)\n",
    "    lem=nlp.WordNetLemmatizer()\n",
    "    text=[lem.lemmatize(word) for word in text]\n",
    "    text=\" \".join(text)\n",
    "    text_list.append(text)\n",
    "#text_list[:10]\n"
   ]
  },
  {
   "cell_type": "code",
   "execution_count": 196,
   "metadata": {},
   "outputs": [],
   "source": [
    "from sklearn.feature_extraction.text import CountVectorizer\n",
    "max_features=1000\n",
    "cou_vec=CountVectorizer(max_features=max_features,stop_words=\"english\")\n",
    "sparse_matrix= cou_vec.fit_transform(text_list).toarray()\n"
   ]
  },
  {
   "cell_type": "code",
   "execution_count": 197,
   "metadata": {},
   "outputs": [],
   "source": [
    "y = data.iloc[:,1].values\n",
    "X = sparse_matrix\n",
    "from sklearn.model_selection import train_test_split\n",
    "X_train,X_test,y_train,y_test  = train_test_split(X,y,test_size = 0.20)\n"
   ]
  },
  {
   "cell_type": "markdown",
   "metadata": {},
   "source": [
    "### MODEL SELECTION "
   ]
  },
  {
   "cell_type": "code",
   "execution_count": 198,
   "metadata": {},
   "outputs": [],
   "source": [
    "from sklearn.metrics import confusion_matrix,classification_report,accuracy_score"
   ]
  },
  {
   "cell_type": "code",
   "execution_count": 199,
   "metadata": {},
   "outputs": [
    {
     "name": "stdout",
     "output_type": "stream",
     "text": [
      "LR accuracy:- 0.766125\n"
     ]
    }
   ],
   "source": [
    "import warnings\n",
    "warnings.filterwarnings(\"ignore\")\n",
    "from sklearn.linear_model import LogisticRegression\n",
    "lrg  = LogisticRegression()\n",
    "lrg.fit(X_train,y_train)\n",
    "y_pred_lr  = lrg.predict(X_test)\n",
    "LR = accuracy_score(y_pred_lr,y_test)\n",
    "print(\"LR accuracy:-\",accuracy_score(y_pred_lr,y_test))\n"
   ]
  },
  {
   "cell_type": "code",
   "execution_count": 221,
   "metadata": {},
   "outputs": [
    {
     "name": "stdout",
     "output_type": "stream",
     "text": [
      "              precision    recall  f1-score   support\n",
      "\n",
      "           0       0.62      0.62      0.62       407\n",
      "           1       0.85      0.90      0.87       377\n",
      "           2       0.95      0.98      0.97       418\n",
      "           3       0.70      0.73      0.71       374\n",
      "           4       0.80      0.80      0.80       413\n",
      "           5       0.53      0.53      0.53       396\n",
      "           6       0.75      0.74      0.75       381\n",
      "           7       0.83      0.82      0.82       423\n",
      "           8       0.71      0.70      0.70       417\n",
      "           9       0.58      0.59      0.58       379\n",
      "          10       0.65      0.60      0.63       453\n",
      "          11       0.80      0.82      0.81       377\n",
      "          12       0.79      0.83      0.81       396\n",
      "          13       0.83      0.86      0.85       387\n",
      "          14       0.82      0.79      0.81       402\n",
      "          15       0.66      0.59      0.62       406\n",
      "          16       0.80      0.82      0.81       364\n",
      "          17       0.89      0.92      0.90       418\n",
      "          18       0.92      0.94      0.93       392\n",
      "          19       0.79      0.76      0.78       420\n",
      "\n",
      "    accuracy                           0.77      8000\n",
      "   macro avg       0.76      0.77      0.77      8000\n",
      "weighted avg       0.76      0.77      0.76      8000\n",
      "\n"
     ]
    }
   ],
   "source": [
    "print(classification_report(y_pred_lr,y_test))"
   ]
  },
  {
   "cell_type": "code",
   "execution_count": 205,
   "metadata": {},
   "outputs": [
    {
     "name": "stdout",
     "output_type": "stream",
     "text": [
      "\n",
      "RF accuracy:- 0.79475\n"
     ]
    }
   ],
   "source": [
    "from sklearn.ensemble import RandomForestClassifier\n",
    "RF_clf = RandomForestClassifier(n_estimators = 200,random_state=0)\n",
    "RF_clf.fit(X_train,y_train)\n",
    "y_pred_rf  = RF_clf.predict(X_test)\n",
    "RF = accuracy_score(y_pred_rf,y_test)\n",
    "print(\"\\nRF accuracy:-\",accuracy_score(y_pred_rf,y_test))"
   ]
  },
  {
   "cell_type": "code",
   "execution_count": 217,
   "metadata": {},
   "outputs": [
    {
     "name": "stdout",
     "output_type": "stream",
     "text": [
      "              precision    recall  f1-score   support\n",
      "\n",
      "           0       0.65      0.63      0.64       419\n",
      "           1       0.85      0.96      0.90       355\n",
      "           2       0.97      0.98      0.97       425\n",
      "           3       0.77      0.81      0.79       370\n",
      "           4       0.85      0.78      0.81       451\n",
      "           5       0.66      0.56      0.61       469\n",
      "           6       0.74      0.82      0.78       343\n",
      "           7       0.85      0.85      0.85       412\n",
      "           8       0.69      0.70      0.70       402\n",
      "           9       0.64      0.62      0.63       393\n",
      "          10       0.64      0.64      0.64       424\n",
      "          11       0.78      0.93      0.85       324\n",
      "          12       0.79      0.81      0.80       410\n",
      "          13       0.87      0.82      0.85       428\n",
      "          14       0.84      0.89      0.87       368\n",
      "          15       0.68      0.68      0.68       363\n",
      "          16       0.84      0.86      0.85       362\n",
      "          17       0.92      0.94      0.93       424\n",
      "          18       0.94      0.97      0.95       387\n",
      "          19       0.89      0.76      0.82       471\n",
      "\n",
      "    accuracy                           0.79      8000\n",
      "   macro avg       0.79      0.80      0.80      8000\n",
      "weighted avg       0.79      0.79      0.79      8000\n",
      "\n"
     ]
    }
   ],
   "source": [
    "print(classification_report(y_pred_rf,y_test))"
   ]
  },
  {
   "cell_type": "code",
   "execution_count": 201,
   "metadata": {},
   "outputs": [
    {
     "name": "stdout",
     "output_type": "stream",
     "text": [
      "\n",
      "DT accuracy:- 0.703625\n"
     ]
    }
   ],
   "source": [
    "from sklearn.tree import DecisionTreeClassifier\n",
    "DT_clf = DecisionTreeClassifier(random_state = 50)\n",
    "DT_clf.fit(X_train,y_train)\n",
    "y_pred_dt  = DT_clf.predict(X_test)\n",
    "DT = accuracy_score(y_pred_dt,y_test)\n",
    "print(\"\\nDT accuracy:-\",accuracy_score(y_pred_dt,y_test))\n"
   ]
  },
  {
   "cell_type": "code",
   "execution_count": 218,
   "metadata": {},
   "outputs": [
    {
     "name": "stdout",
     "output_type": "stream",
     "text": [
      "              precision    recall  f1-score   support\n",
      "\n",
      "           0       0.57      0.56      0.57       416\n",
      "           1       0.83      0.86      0.84       385\n",
      "           2       0.93      0.94      0.93       423\n",
      "           3       0.65      0.65      0.65       388\n",
      "           4       0.74      0.74      0.74       411\n",
      "           5       0.45      0.41      0.43       432\n",
      "           6       0.68      0.69      0.69       373\n",
      "           7       0.78      0.77      0.77       424\n",
      "           8       0.53      0.57      0.55       384\n",
      "           9       0.55      0.55      0.55       375\n",
      "          10       0.53      0.55      0.54       411\n",
      "          11       0.74      0.78      0.76       367\n",
      "          12       0.67      0.68      0.67       413\n",
      "          13       0.81      0.77      0.79       426\n",
      "          14       0.78      0.76      0.77       394\n",
      "          15       0.58      0.53      0.55       393\n",
      "          16       0.74      0.76      0.75       365\n",
      "          17       0.87      0.91      0.89       412\n",
      "          18       0.86      0.86      0.86       400\n",
      "          19       0.74      0.73      0.73       408\n",
      "\n",
      "    accuracy                           0.70      8000\n",
      "   macro avg       0.70      0.70      0.70      8000\n",
      "weighted avg       0.70      0.70      0.70      8000\n",
      "\n"
     ]
    }
   ],
   "source": [
    "print(classification_report(y_pred_dt,y_test))"
   ]
  },
  {
   "cell_type": "code",
   "execution_count": 203,
   "metadata": {},
   "outputs": [
    {
     "name": "stdout",
     "output_type": "stream",
     "text": [
      "\n",
      "SVC accuracy:- 0.720125\n"
     ]
    }
   ],
   "source": [
    "from sklearn import svm\n",
    "SVM_clf = svm.SVC(kernel='linear')\n",
    "SVM_clf.fit(X_train,y_train)\n",
    "y_pred_svc  = SVM_clf.predict(X_test)\n",
    "SVC = accuracy_score(y_pred_svc,y_test)\n",
    "print(\"\\nSVC accuracy:-\",accuracy_score(y_pred_svc,y_test))\n"
   ]
  },
  {
   "cell_type": "code",
   "execution_count": 219,
   "metadata": {},
   "outputs": [
    {
     "name": "stdout",
     "output_type": "stream",
     "text": [
      "              precision    recall  f1-score   support\n",
      "\n",
      "           0       0.60      0.50      0.55       493\n",
      "           1       0.83      0.84      0.84       398\n",
      "           2       0.93      0.93      0.93       431\n",
      "           3       0.65      0.68      0.66       373\n",
      "           4       0.76      0.74      0.75       424\n",
      "           5       0.49      0.46      0.48       418\n",
      "           6       0.73      0.68      0.70       407\n",
      "           7       0.80      0.78      0.79       425\n",
      "           8       0.68      0.65      0.66       429\n",
      "           9       0.54      0.52      0.53       398\n",
      "          10       0.57      0.61      0.59       390\n",
      "          11       0.71      0.79      0.75       348\n",
      "          12       0.74      0.77      0.76       401\n",
      "          13       0.77      0.82      0.80       377\n",
      "          14       0.80      0.74      0.77       418\n",
      "          15       0.54      0.56      0.55       347\n",
      "          16       0.76      0.80      0.78       354\n",
      "          17       0.85      0.90      0.87       406\n",
      "          18       0.87      0.92      0.89       380\n",
      "          19       0.72      0.76      0.74       383\n",
      "\n",
      "    accuracy                           0.72      8000\n",
      "   macro avg       0.72      0.72      0.72      8000\n",
      "weighted avg       0.72      0.72      0.72      8000\n",
      "\n"
     ]
    }
   ],
   "source": [
    "print(classification_report(y_pred_svc,y_test))"
   ]
  },
  {
   "cell_type": "code",
   "execution_count": 204,
   "metadata": {},
   "outputs": [
    {
     "name": "stdout",
     "output_type": "stream",
     "text": [
      "\n",
      "NB accuracy:- 0.467875\n"
     ]
    }
   ],
   "source": [
    "from sklearn.naive_bayes import GaussianNB\n",
    "NB = GaussianNB()\n",
    "NB.fit(X_train, y_train)\n",
    "y_pred_nb  = NB.predict(X_test)\n",
    "NB_clf = accuracy_score(y_pred_nb,y_test)\n",
    "print(\"\\nNB accuracy:-\",accuracy_score(y_pred_nb,y_test))\n"
   ]
  },
  {
   "cell_type": "code",
   "execution_count": 220,
   "metadata": {},
   "outputs": [
    {
     "name": "stdout",
     "output_type": "stream",
     "text": [
      "              precision    recall  f1-score   support\n",
      "\n",
      "           0       0.43      0.31      0.36       560\n",
      "           1       0.55      0.85      0.66       260\n",
      "           2       0.89      0.79      0.83       485\n",
      "           3       0.28      0.43      0.34       249\n",
      "           4       0.76      0.42      0.54       758\n",
      "           5       0.22      0.56      0.32       155\n",
      "           6       0.57      0.61      0.59       353\n",
      "           7       0.86      0.36      0.50      1004\n",
      "           8       0.09      0.33      0.14       112\n",
      "           9       0.23      0.37      0.28       233\n",
      "          10       0.65      0.34      0.45       803\n",
      "          11       0.37      0.74      0.49       192\n",
      "          12       0.22      0.52      0.31       178\n",
      "          13       0.41      0.48      0.44       345\n",
      "          14       0.26      0.36      0.30       282\n",
      "          15       0.30      0.61      0.41       181\n",
      "          16       0.25      0.60      0.35       153\n",
      "          17       0.39      0.80      0.53       212\n",
      "          18       0.75      0.85      0.80       354\n",
      "          19       0.78      0.28      0.41      1131\n",
      "\n",
      "    accuracy                           0.47      8000\n",
      "   macro avg       0.46      0.53      0.45      8000\n",
      "weighted avg       0.60      0.47      0.48      8000\n",
      "\n"
     ]
    }
   ],
   "source": [
    "print(classification_report(y_pred_nb,y_test))"
   ]
  },
  {
   "cell_type": "markdown",
   "metadata": {},
   "source": [
    "###  ACCURACY PERFORMANCE "
   ]
  },
  {
   "cell_type": "code",
   "execution_count": 209,
   "metadata": {},
   "outputs": [
    {
     "name": "stdout",
     "output_type": "stream",
     "text": [
      "LR accuracy:- 0.766125\n",
      "\n",
      "RF accuracy:- 0.79475\n",
      "\n",
      "DT accuracy:- 0.703625\n",
      "\n",
      "SVC accuracy:- 0.720125\n",
      "\n",
      "NB accuracy:- 0.467875\n"
     ]
    }
   ],
   "source": [
    "from sklearn.metrics import accuracy_score\n",
    "# 1. LOGISTIC REGRESSION\n",
    "y_pred  = lrg.predict(X_test)\n",
    "LR = accuracy_score(y_pred,y_test)\n",
    "print(\"LR accuracy:-\",accuracy_score(y_pred,y_test))\n",
    "# 2. RANDOM FOREST\n",
    "y_pred  = RF_clf.predict(X_test)\n",
    "RF = accuracy_score(y_pred,y_test)\n",
    "print(\"\\nRF accuracy:-\",accuracy_score(y_pred,y_test))\n",
    "# 3.DECISION TREE\n",
    "y_pred  = DT_clf.predict(X_test)\n",
    "DT = accuracy_score(y_pred,y_test)\n",
    "print(\"\\nDT accuracy:-\",accuracy_score(y_pred,y_test))\n",
    "# 4. SVClassifier \n",
    "y_pred  = SVM_clf.predict(X_test)\n",
    "SVC = accuracy_score(y_pred,y_test)\n",
    "print(\"\\nSVC accuracy:-\",accuracy_score(y_pred,y_test))\n",
    "# 5. Naive Bayes\n",
    "y_pred_nb  = NB.predict(X_test)\n",
    "NB = accuracy_score(y_pred_nb,y_test)\n",
    "print(\"\\nNB accuracy:-\",accuracy_score(y_pred_nb,y_test))\n"
   ]
  },
  {
   "cell_type": "code",
   "execution_count": 210,
   "metadata": {},
   "outputs": [
    {
     "data": {
      "image/png": "[encoded data removed]",
      "text/plain": [
       "<Figure size 432x288 with 1 Axes>"
      ]
     },
     "metadata": {
      "needs_background": "light"
     },
     "output_type": "display_data"
    }
   ],
   "source": [
    "import matplotlib.pyplot as plt\n",
    "%matplotlib inline\n",
    "plot = [LR,RF,DT,SVC,NB]\n",
    "name = ['LR','RF','DT','SVC','NB']\n",
    "\n",
    "\n",
    "tick_label = ['LR','RF','DT','SVC','NB'] \n",
    "  \n",
    "plt.bar(name,plot, tick_label = tick_label, \n",
    "        width = 0.5, color = ['red', 'green','blue','purple','yellow']) \n",
    "   \n",
    "plt.xlabel('algorithms') \n",
    "plt.ylabel('accuracies') \n",
    "plt.title('performace of Classification algorithms') \n",
    "plt.show() \n"
   ]
  },
  {
   "cell_type": "code",
   "execution_count": null,
   "metadata": {},
   "outputs": [],
   "source": []
  }
 ],
 "metadata": {
  "kernelspec": {
   "display_name": "Python 3",
   "language": "python",
   "name": "python3"
  },
  "language_info": {
   "codemirror_mode": {
    "name": "ipython",
    "version": 3
   },
   "file_extension": ".py",
   "mimetype": "text/x-python",
   "name": "python",
   "nbconvert_exporter": "python",
   "pygments_lexer": "ipython3",
   "version": "3.7.4"
  }
 },
 "nbformat": 4,
 "nbformat_minor": 2
}
